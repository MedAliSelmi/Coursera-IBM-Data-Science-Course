{
 "cells": [
  {
   "cell_type": "markdown",
   "id": "0b0216e0-5d54-4f14-a8b8-44d7c158be49",
   "metadata": {},
   "source": [
    "# My Jupyter Notebook on IBM Watson Studio"
   ]
  },
  {
   "cell_type": "markdown",
   "id": "37aec856-3759-40c9-99a9-f379f99a5ee3",
   "metadata": {},
   "source": [
    "<strong>Mohamed Ali Selmi</strong><br>\n",
    "Software Engineering Student"
   ]
  },
  {
   "cell_type": "markdown",
   "id": "bbc6c43a-c788-4bd8-a762-53ffe41947c9",
   "metadata": {},
   "source": [
    "<em>I am interested in data science because I love getting<br>\n",
    "    insights from data and make data driven decisions</em>"
   ]
  },
  {
   "cell_type": "markdown",
   "id": "8b90ff17-8baa-4c99-ba52-6f9d51977eea",
   "metadata": {},
   "source": [
    "### code below is an example of plotting two lists using the matplotlib module"
   ]
  },
  {
   "cell_type": "code",
   "execution_count": 1,
   "id": "50137033-4b1c-47c5-b00b-92fb84036d86",
   "metadata": {},
   "outputs": [
    {
     "data": {
      "image/png": "[encoded data removed]",
      "text/plain": [
       "<Figure size 432x288 with 1 Axes>"
      ]
     },
     "metadata": {
      "needs_background": "light"
     },
     "output_type": "display_data"
    }
   ],
   "source": [
    "import matplotlib.pyplot as plt\n",
    "x=[1,2,3,4,5,6]\n",
    "y=[2,4,6,8,10,12]\n",
    "plt.plot(x,y)\n",
    "plt.show()"
   ]
  },
  {
   "cell_type": "markdown",
   "id": "efffab7f-1698-4b9b-8814-52e166228e3a",
   "metadata": {},
   "source": [
    "<table>\n",
    "  <tr>\n",
    "    <td>1</td>\n",
    "    <td>2</td>\n",
    "    <td>3</td>\n",
    "  </tr>\n",
    "  <tr>\n",
    "    <td>4</td>\n",
    "    <td>5</td>\n",
    "    <td>6</td>\n",
    "  </tr>\n",
    "  <tr>\n",
    "    <td>7</td>\n",
    "    <td>8</td>\n",
    "    <td>9</td>\n",
    "  </tr>\n",
    "</table>\n",
    "<hr>\n",
    "<ul>\n",
    "    <li>This is a jupyter notebook submission for a peer-graded assignment</li>\n",
    "    <li>Course: IBM's Tools for Data Science</li>\n",
    "    <li>Coursera</li>\n",
    "</ul>"
   ]
  }
 ],
 "metadata": {
  "kernelspec": {
   "display_name": "Python",
   "language": "python",
   "name": "conda-env-python-py"
  },
  "language_info": {
   "codemirror_mode": {
    "name": "ipython",
    "version": 3
   },
   "file_extension": ".py",
   "mimetype": "text/x-python",
   "name": "python",
   "nbconvert_exporter": "python",
   "pygments_lexer": "ipython3",
   "version": "3.7.12"
  }
 },
 "nbformat": 4,
 "nbformat_minor": 5
}
